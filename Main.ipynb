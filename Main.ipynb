{
 "cells": [
  {
   "cell_type": "code",
   "execution_count": null,
   "id": "technological-funeral",
   "metadata": {},
   "outputs": [],
   "source": [
    "import io\n",
    "import os\n",
    "import telebot\n",
    "from PIL import Image, ImageDraw , ImageFont"
   ]
  },
  {
   "cell_type": "code",
   "execution_count": null,
   "id": "acute-furniture",
   "metadata": {},
   "outputs": [],
   "source": [
    "def verdict(img:Image, povtorka:bool):\n",
    "    board = Image.open('img/b.jpg')\n",
    "    survived = Image.open('img/survived.jpeg')\n",
    "    if povtorka:\n",
    "        width, height = img.size \n",
    "        img = img.resize((int(width/2), int(height/2)))\n",
    "        board.paste(img,(100,150))\n",
    "        font = ImageFont.truetype(\"Arial.ttf\", size = 50)\n",
    "        draw = ImageDraw.Draw(board)\n",
    "        draw.text((65,500), \"Повторний Курс\", fill = 'black',font = font)\n",
    "        return board\n",
    "    else:\n",
    "        width, height = img.size \n",
    "        img = img.resize((int(width/1.5), int(height/1.5)))\n",
    "        survived.paste(img,(200,130))\n",
    "        font = ImageFont.truetype(\"Arial.ttf\", size = 75)\n",
    "        draw = ImageDraw.Draw(survived)\n",
    "        draw.text((250,550), \"Survived\", fill = 'green',font = font)\n",
    "        return survived"
   ]
  },
  {
   "cell_type": "code",
   "execution_count": null,
   "id": "concerned-charles",
   "metadata": {},
   "outputs": [],
   "source": [
    "def pillow_to_bytes(pillow: Image):\n",
    "    byte = io.BytesIO()\n",
    "    pillow.save(byte, format=pillow.format)\n",
    "    byte = byte.getvalue()\n",
    "    return byte\n",
    "\n",
    "def bytes_to_pillow(byte: bytes):\n",
    "    pillow = Image.open(io.BytesIO(byte))\n",
    "    return pillow"
   ]
  },
  {
   "cell_type": "code",
   "execution_count": null,
   "id": "divided-wrapping",
   "metadata": {},
   "outputs": [],
   "source": [
    "downloaded_file = pillow_to_bytes(Image.open(\"dataset/povtorka/real_00001.jpg\"))"
   ]
  },
  {
   "cell_type": "code",
   "execution_count": null,
   "id": "satisfactory-figure",
   "metadata": {},
   "outputs": [],
   "source": [
    "res = pillow_to_bytes(verdict(bytes_to_pillow(downloaded_file), 1))"
   ]
  }
 ],
 "metadata": {
  "kernelspec": {
   "display_name": "Python 3",
   "language": "python",
   "name": "python3"
  },
  "language_info": {
   "codemirror_mode": {
    "name": "ipython",
    "version": 3
   },
   "file_extension": ".py",
   "mimetype": "text/x-python",
   "name": "python",
   "nbconvert_exporter": "python",
   "pygments_lexer": "ipython3",
   "version": "3.8.3"
  }
 },
 "nbformat": 4,
 "nbformat_minor": 5
}
