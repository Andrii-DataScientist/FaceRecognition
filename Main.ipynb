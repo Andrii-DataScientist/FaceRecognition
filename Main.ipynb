{
 "cells": [
  {
   "cell_type": "code",
   "execution_count": 2,
   "id": "spiritual-iceland",
   "metadata": {},
   "outputs": [],
   "source": [
    "import io\n",
    "import os\n",
    "# import telebot\n",
    "import random\n",
    "from PIL import Image, ImageDraw , ImageFont"
   ]
  },
  {
   "cell_type": "code",
   "execution_count": 8,
   "id": "saving-expression",
   "metadata": {},
   "outputs": [],
   "source": [
    "random.seed(444)\n",
    "board = Image.open('img/b.jpg')\n",
    "survived = Image.open('img/survived.jpeg')"
   ]
  },
  {
   "cell_type": "code",
   "execution_count": 9,
   "id": "metric-violin",
   "metadata": {},
   "outputs": [],
   "source": [
    "def sizing(img: Image, povtorka:bool):\n",
    "    img_width, img_height = img.size\n",
    "    if povtorka:\n",
    "        b_width, b_height = board.size\n",
    "        return img_width/ (b_width/2) , img_height/ (b_height/2)\n",
    "    else:\n",
    "        s_width, s_height = survived.size\n",
    "        return img_width/ (s_width/2) , img_height/ (s_height/1.5)\n",
    "\n",
    "def verdict(img: Image, povtorka:bool):\n",
    "    if povtorka:\n",
    "        width, height = img.size\n",
    "        k1,k2 = sizing(img,povtorka)\n",
    "        img = img.resize((int(width/k1), int(height/k2)))\n",
    "        board.paste(img,(125,150))\n",
    "        return board\n",
    "    else:\n",
    "        width, height = img.size \n",
    "        k1,k2 = sizing(img,povtorka)\n",
    "        img = img.resize((int(width/k1), int(height/k2)))\n",
    "        survived.paste(img,(200,130))\n",
    "        return survived"
   ]
  },
  {
   "cell_type": "code",
   "execution_count": 4,
   "id": "likely-launch",
   "metadata": {},
   "outputs": [],
   "source": [
    "def pillow_to_bytes(pillow: Image):\n",
    "    byte = io.BytesIO()\n",
    "    pillow.save(byte, format=pillow.format)\n",
    "    byte = byte.getvalue()\n",
    "    return byte\n",
    "\n",
    "def bytes_to_pillow(byte: bytes):\n",
    "    pillow = Image.open(io.BytesIO(byte))\n",
    "    return pillow"
   ]
  },
  {
   "cell_type": "code",
   "execution_count": 6,
   "id": "center-technology",
   "metadata": {},
   "outputs": [
    {
     "data": {
      "text/plain": [
       "bytes"
      ]
     },
     "execution_count": 6,
     "metadata": {},
     "output_type": "execute_result"
    }
   ],
   "source": [
    "downloaded_file = pillow_to_bytes(Image.open(\"dataset2/povtorka/real_00001.jpg\"))\n",
    "type(downloaded_file)"
   ]
  },
  {
   "cell_type": "code",
   "execution_count": 10,
   "id": "strong-puzzle",
   "metadata": {},
   "outputs": [
    {
     "data": {
      "text/plain": [
       "bytes"
      ]
     },
     "execution_count": 10,
     "metadata": {},
     "output_type": "execute_result"
    }
   ],
   "source": [
    "res = pillow_to_bytes(verdict(bytes_to_pillow(downloaded_file), random.randint(0, 1)))\n",
    "type(res)"
   ]
  }
 ],
 "metadata": {
  "kernelspec": {
   "display_name": "Python 3",
   "language": "python",
   "name": "python3"
  },
  "language_info": {
   "codemirror_mode": {
    "name": "ipython",
    "version": 3
   },
   "file_extension": ".py",
   "mimetype": "text/x-python",
   "name": "python",
   "nbconvert_exporter": "python",
   "pygments_lexer": "ipython3",
   "version": "3.8.3"
  }
 },
 "nbformat": 4,
 "nbformat_minor": 5
}
