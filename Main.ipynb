{
 "cells": [
  {
   "cell_type": "code",
   "execution_count": 2,
   "id": "damaged-monitoring",
   "metadata": {},
   "outputs": [],
   "source": [
    "import io\n",
    "import os\n",
    "# import telebot\n",
    "from PIL import Image, ImageDraw , ImageFont"
   ]
  },
  {
   "cell_type": "code",
   "execution_count": null,
   "id": "auburn-audit",
   "metadata": {},
   "outputs": [],
   "source": [
    "board = Image.open('img/b.jpg')\n",
    "survived = Image.open('img/survived.jpeg')"
   ]
  },
  {
   "cell_type": "code",
   "execution_count": 3,
   "id": "drawn-rebel",
   "metadata": {},
   "outputs": [],
   "source": [
    "def sizing(img: Image, povtorka:bool):\n",
    "    img_width, img_height = img.size\n",
    "    if povtorka:\n",
    "        b_width, b_height = board.size\n",
    "        return img_width/ (b_width/2) , img_height/ (b_height/2)\n",
    "    else:\n",
    "        s_width, s_height = new.size\n",
    "        return img_width/ (s_width/2) , img_height/ (s_height/1.5)\n",
    "\n",
    "def verdict(img: Image, povtorka:bool):\n",
    "    if povtorka:\n",
    "        width, height = img.size\n",
    "        k1,k2 = sizing(img,povtorka)\n",
    "        img = img.resize((int(width/k1), int(height/k2)))\n",
    "        board.paste(img,(125,150))\n",
    "        return board\n",
    "    else:\n",
    "        width, height = img.size \n",
    "        k1,k2 = sizing(img,povtorka)\n",
    "        img = img.resize((int(width/k1), int(height/k2)))\n",
    "        new.paste(img,(200,130))\n",
    "        return new"
   ]
  },
  {
   "cell_type": "code",
   "execution_count": 4,
   "id": "organizational-athletics",
   "metadata": {},
   "outputs": [],
   "source": [
    "def pillow_to_bytes(pillow: Image):\n",
    "    byte = io.BytesIO()\n",
    "    pillow.save(byte, format=pillow.format)\n",
    "    byte = byte.getvalue()\n",
    "    return byte\n",
    "\n",
    "def bytes_to_pillow(byte: bytes):\n",
    "    pillow = Image.open(io.BytesIO(byte))\n",
    "    return pillow"
   ]
  },
  {
   "cell_type": "code",
   "execution_count": 6,
   "id": "grand-portrait",
   "metadata": {},
   "outputs": [
    {
     "data": {
      "text/plain": [
       "bytes"
      ]
     },
     "execution_count": 6,
     "metadata": {},
     "output_type": "execute_result"
    }
   ],
   "source": [
    "downloaded_file = pillow_to_bytes(Image.open(\"dataset2/povtorka/real_00001.jpg\"))\n",
    "type(downloaded_file)"
   ]
  },
  {
   "cell_type": "code",
   "execution_count": 7,
   "id": "legal-documentation",
   "metadata": {},
   "outputs": [
    {
     "ename": "NameError",
     "evalue": "name 'board' is not defined",
     "output_type": "error",
     "traceback": [
      "\u001b[1;31m---------------------------------------------------------------------------\u001b[0m",
      "\u001b[1;31mNameError\u001b[0m                                 Traceback (most recent call last)",
      "\u001b[1;32m<ipython-input-7-c9402cd77982>\u001b[0m in \u001b[0;36m<module>\u001b[1;34m\u001b[0m\n\u001b[1;32m----> 1\u001b[1;33m \u001b[0mres\u001b[0m \u001b[1;33m=\u001b[0m \u001b[0mpillow_to_bytes\u001b[0m\u001b[1;33m(\u001b[0m\u001b[0mverdict\u001b[0m\u001b[1;33m(\u001b[0m\u001b[0mbytes_to_pillow\u001b[0m\u001b[1;33m(\u001b[0m\u001b[0mdownloaded_file\u001b[0m\u001b[1;33m)\u001b[0m\u001b[1;33m,\u001b[0m \u001b[1;36m1\u001b[0m\u001b[1;33m)\u001b[0m\u001b[1;33m)\u001b[0m\u001b[1;33m\u001b[0m\u001b[1;33m\u001b[0m\u001b[0m\n\u001b[0m\u001b[0;32m      2\u001b[0m \u001b[0mtype\u001b[0m\u001b[1;33m(\u001b[0m\u001b[0mres\u001b[0m\u001b[1;33m)\u001b[0m\u001b[1;33m\u001b[0m\u001b[1;33m\u001b[0m\u001b[0m\n",
      "\u001b[1;32m<ipython-input-3-85a65265db02>\u001b[0m in \u001b[0;36mverdict\u001b[1;34m(img, povtorka)\u001b[0m\n\u001b[0;32m     11\u001b[0m     \u001b[1;32mif\u001b[0m \u001b[0mpovtorka\u001b[0m\u001b[1;33m:\u001b[0m\u001b[1;33m\u001b[0m\u001b[1;33m\u001b[0m\u001b[0m\n\u001b[0;32m     12\u001b[0m         \u001b[0mwidth\u001b[0m\u001b[1;33m,\u001b[0m \u001b[0mheight\u001b[0m \u001b[1;33m=\u001b[0m \u001b[0mimg\u001b[0m\u001b[1;33m.\u001b[0m\u001b[0msize\u001b[0m\u001b[1;33m\u001b[0m\u001b[1;33m\u001b[0m\u001b[0m\n\u001b[1;32m---> 13\u001b[1;33m         \u001b[0mk1\u001b[0m\u001b[1;33m,\u001b[0m\u001b[0mk2\u001b[0m \u001b[1;33m=\u001b[0m \u001b[0msizing\u001b[0m\u001b[1;33m(\u001b[0m\u001b[0mimg\u001b[0m\u001b[1;33m,\u001b[0m\u001b[0mpovtorka\u001b[0m\u001b[1;33m)\u001b[0m\u001b[1;33m\u001b[0m\u001b[1;33m\u001b[0m\u001b[0m\n\u001b[0m\u001b[0;32m     14\u001b[0m         \u001b[0mimg\u001b[0m \u001b[1;33m=\u001b[0m \u001b[0mimg\u001b[0m\u001b[1;33m.\u001b[0m\u001b[0mresize\u001b[0m\u001b[1;33m(\u001b[0m\u001b[1;33m(\u001b[0m\u001b[0mint\u001b[0m\u001b[1;33m(\u001b[0m\u001b[0mwidth\u001b[0m\u001b[1;33m/\u001b[0m\u001b[0mk1\u001b[0m\u001b[1;33m)\u001b[0m\u001b[1;33m,\u001b[0m \u001b[0mint\u001b[0m\u001b[1;33m(\u001b[0m\u001b[0mheight\u001b[0m\u001b[1;33m/\u001b[0m\u001b[0mk2\u001b[0m\u001b[1;33m)\u001b[0m\u001b[1;33m)\u001b[0m\u001b[1;33m)\u001b[0m\u001b[1;33m\u001b[0m\u001b[1;33m\u001b[0m\u001b[0m\n\u001b[0;32m     15\u001b[0m         \u001b[0mboard\u001b[0m\u001b[1;33m.\u001b[0m\u001b[0mpaste\u001b[0m\u001b[1;33m(\u001b[0m\u001b[0mimg\u001b[0m\u001b[1;33m,\u001b[0m\u001b[1;33m(\u001b[0m\u001b[1;36m125\u001b[0m\u001b[1;33m,\u001b[0m\u001b[1;36m150\u001b[0m\u001b[1;33m)\u001b[0m\u001b[1;33m)\u001b[0m\u001b[1;33m\u001b[0m\u001b[1;33m\u001b[0m\u001b[0m\n",
      "\u001b[1;32m<ipython-input-3-85a65265db02>\u001b[0m in \u001b[0;36msizing\u001b[1;34m(img, povtorka)\u001b[0m\n\u001b[0;32m      2\u001b[0m     \u001b[0mimg_width\u001b[0m\u001b[1;33m,\u001b[0m \u001b[0mimg_height\u001b[0m \u001b[1;33m=\u001b[0m \u001b[0mimg\u001b[0m\u001b[1;33m.\u001b[0m\u001b[0msize\u001b[0m\u001b[1;33m\u001b[0m\u001b[1;33m\u001b[0m\u001b[0m\n\u001b[0;32m      3\u001b[0m     \u001b[1;32mif\u001b[0m \u001b[0mpovtorka\u001b[0m\u001b[1;33m:\u001b[0m\u001b[1;33m\u001b[0m\u001b[1;33m\u001b[0m\u001b[0m\n\u001b[1;32m----> 4\u001b[1;33m         \u001b[0mb_width\u001b[0m\u001b[1;33m,\u001b[0m \u001b[0mb_height\u001b[0m \u001b[1;33m=\u001b[0m \u001b[0mboard\u001b[0m\u001b[1;33m.\u001b[0m\u001b[0msize\u001b[0m\u001b[1;33m\u001b[0m\u001b[1;33m\u001b[0m\u001b[0m\n\u001b[0m\u001b[0;32m      5\u001b[0m         \u001b[1;32mreturn\u001b[0m \u001b[0mimg_width\u001b[0m\u001b[1;33m/\u001b[0m \u001b[1;33m(\u001b[0m\u001b[0mb_width\u001b[0m\u001b[1;33m/\u001b[0m\u001b[1;36m2\u001b[0m\u001b[1;33m)\u001b[0m \u001b[1;33m,\u001b[0m \u001b[0mimg_height\u001b[0m\u001b[1;33m/\u001b[0m \u001b[1;33m(\u001b[0m\u001b[0mb_height\u001b[0m\u001b[1;33m/\u001b[0m\u001b[1;36m2\u001b[0m\u001b[1;33m)\u001b[0m\u001b[1;33m\u001b[0m\u001b[1;33m\u001b[0m\u001b[0m\n\u001b[0;32m      6\u001b[0m     \u001b[1;32melse\u001b[0m\u001b[1;33m:\u001b[0m\u001b[1;33m\u001b[0m\u001b[1;33m\u001b[0m\u001b[0m\n",
      "\u001b[1;31mNameError\u001b[0m: name 'board' is not defined"
     ]
    }
   ],
   "source": [
    "res = pillow_to_bytes(verdict(bytes_to_pillow(downloaded_file), 1))\n",
    "type(res)"
   ]
  }
 ],
 "metadata": {
  "kernelspec": {
   "display_name": "Python 3",
   "language": "python",
   "name": "python3"
  },
  "language_info": {
   "codemirror_mode": {
    "name": "ipython",
    "version": 3
   },
   "file_extension": ".py",
   "mimetype": "text/x-python",
   "name": "python",
   "nbconvert_exporter": "python",
   "pygments_lexer": "ipython3",
   "version": "3.8.3"
  }
 },
 "nbformat": 4,
 "nbformat_minor": 5
}
